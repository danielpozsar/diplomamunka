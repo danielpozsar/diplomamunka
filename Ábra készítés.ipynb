{
 "cells": [
  {
   "cell_type": "code",
   "execution_count": 1,
   "id": "d180a892",
   "metadata": {},
   "outputs": [],
   "source": [
    "import numpy as np\n",
    "import imageio\n",
    "import matplotlib.pyplot as plt"
   ]
  },
  {
   "cell_type": "code",
   "execution_count": 2,
   "id": "6b4b6f33",
   "metadata": {},
   "outputs": [],
   "source": [
    "def abra(path, name, PIXEL_SIZE):\n",
    "    \"\"\"\n",
    "    A feldolgozott képek ábrázolásához írt függvény.\n",
    "    \"\"\"\n",
    "    # az elérés útjai\n",
    "    if (path == 1):\n",
    "        path = '../data/PD01_Cu_pillar/20220428/selected_data_platina/'\n",
    "    if (path == 2):\n",
    "        path = '../data/PD01_Cu_pillar/20220406/selected_data/'\n",
    "    \n",
    "    # beolvasás\n",
    "    image = imageio.imread(path + name + \".tif\")\n",
    "\n",
    "    # az ábra valódi méreteinek prezentálásához szükséges paraméterek\n",
    "    height = int(image.shape[1] / 100 * 85)\n",
    "    length = 0.3 * image.shape[0] * PIXEL_SIZE * 1e6\n",
    "    length = int(length - length % 5)\n",
    "    percent = length / (image.shape[0] * PIXEL_SIZE * 1e6)\n",
    "    \n",
    "    # ábrázolás\n",
    "    plt.figure(figsize=(10,10))\n",
    "    \n",
    "    plt.imshow(image, cmap=\"gray\")\n",
    "    plt.axhline(height, 0.1, percent + 0.1, linewidth=10, color=\"k\", label=r'$\\bf{%d \\;\\; \\mu m}$' % length)\n",
    "    leg = plt.legend(loc='lower left', framealpha=0, fontsize=26)\n",
    "    \n",
    "    for lh in leg.legendHandles: \n",
    "        lh.set_alpha(0)\n",
    "\n",
    "    plt.tick_params(left=False,\n",
    "        bottom=False,\n",
    "        labelleft=False,\n",
    "        labelbottom=False)\n",
    "    \n",
    "    # mentés\n",
    "    plt.savefig(\"../latex/images/\" + name + \"_new.png\", dpi=300)"
   ]
  },
  {
   "cell_type": "code",
   "execution_count": 3,
   "id": "b71fa5a0",
   "metadata": {},
   "outputs": [],
   "source": [
    "#abra(1,\"32_65na5z\", 2.91406e-008)"
   ]
  },
  {
   "cell_type": "code",
   "execution_count": 4,
   "id": "5d56cd16",
   "metadata": {
    "scrolled": false
   },
   "outputs": [],
   "source": [
    "#abra(2,\"ep_minta\", 1.45703e-007)\n",
    "#abra(2,\"serult_minta\", 1.21419e-007)"
   ]
  },
  {
   "cell_type": "code",
   "execution_count": 5,
   "id": "3a44db6a",
   "metadata": {
    "scrolled": false
   },
   "outputs": [],
   "source": [
    "#abra(2,\"csiszolas_0\", 1.45703e-007)\n",
    "#abra(2,\"csiszolas_1\", 1.21419e-007)\n",
    "#abra(2,\"csiszolas_2\", 1.21419e-007)\n",
    "#abra(2,\"csiszolas_3\", 1.21419e-007)\n",
    "#abra(2,\"csiszolas_4\", 1.21419e-007)"
   ]
  },
  {
   "cell_type": "code",
   "execution_count": 6,
   "id": "d26613d6",
   "metadata": {
    "scrolled": false
   },
   "outputs": [],
   "source": [
    "#abra(2,\"70_30na5z\", 1.45703e-008)\n",
    "#abra(2,\"78_30na5z\", 1.45703e-008)\n",
    "#abra(2,\"86_15na1.5z\", 1.21419e-007)\n",
    "#abra(2,\"92_0.3na2z\", 9.71354e-008)"
   ]
  },
  {
   "cell_type": "code",
   "execution_count": 7,
   "id": "4b795415",
   "metadata": {
    "scrolled": false
   },
   "outputs": [],
   "source": [
    "#abra(1,\"32_65na5z\", 2.91406e-008)\n",
    "#abra(1,\"40_15na1z\", 2.91406e-008)\n",
    "#abra(1,\"49_15na1z\", 2.91406e-008)\n",
    "#abra(1,\"69_0.3na2z\", 4.16295e-009)"
   ]
  }
 ],
 "metadata": {
  "kernelspec": {
   "display_name": "Python 3 (ipykernel)",
   "language": "python",
   "name": "python3"
  },
  "language_info": {
   "codemirror_mode": {
    "name": "ipython",
    "version": 3
   },
   "file_extension": ".py",
   "mimetype": "text/x-python",
   "name": "python",
   "nbconvert_exporter": "python",
   "pygments_lexer": "ipython3",
   "version": "3.8.5"
  }
 },
 "nbformat": 4,
 "nbformat_minor": 5
}
